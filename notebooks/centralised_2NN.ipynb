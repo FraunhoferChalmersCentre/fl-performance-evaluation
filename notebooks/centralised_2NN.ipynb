{
 "cells": [
  {
   "cell_type": "code",
   "execution_count": 1,
   "metadata": {},
   "outputs": [
    {
     "name": "stderr",
     "output_type": "stream",
     "text": [
      "/home/smith/miniconda3/envs/dml/lib/python3.6/site-packages/h5py/__init__.py:36: FutureWarning: Conversion of the second argument of issubdtype from `float` to `np.floating` is deprecated. In future, it will be treated as `np.float64 == np.dtype(float).type`.\n",
      "  from ._conv import register_converters as _register_converters\n",
      "Using TensorFlow backend.\n"
     ]
    }
   ],
   "source": [
    "import os\n",
    "import struct\n",
    "import numpy\n",
    "from keras import backend as K\n",
    "import matplotlib.pyplot as plt\n",
    "%matplotlib inline"
   ]
  },
  {
   "cell_type": "code",
   "execution_count": 2,
   "metadata": {},
   "outputs": [],
   "source": [
    "def read(fname_img = '../src/data/mnist/train-images.idx3-ubyte', fname_lbl = '../src/data/mnist/train-labels.idx1-ubyte'):\n",
    "    \"\"\"\n",
    "    Python function for importing the MNIST data set.  It returns an iterator\n",
    "    of 2-tuples with the first element being the label and the second element\n",
    "    being a numpy.uint8 2D array of pixel data for the given image.\n",
    "    \"\"\"\n",
    "    # Load everything in some numpy arrays\n",
    "    with open(fname_lbl, 'rb') as flbl:\n",
    "        magic, num = struct.unpack(\">II\", flbl.read(8))\n",
    "        lbl = numpy.fromfile(flbl, dtype=numpy.int8)\n",
    "        if len(lbl) != num:\n",
    "            print('Header mismatch. #labels != header number')\n",
    "\n",
    "    with open(fname_img, 'rb') as fimg:\n",
    "        magic, num, rows, cols = struct.unpack(\">IIII\", fimg.read(16))\n",
    "        img = numpy.fromfile(fimg, dtype=numpy.uint8).reshape(num, rows, cols)\n",
    "\n",
    "    return (img, lbl)"
   ]
  },
  {
   "cell_type": "code",
   "execution_count": 3,
   "metadata": {},
   "outputs": [],
   "source": [
    "import keras\n",
    "from keras.models import Sequential\n",
    "from keras.layers import Dense"
   ]
  },
  {
   "cell_type": "code",
   "execution_count": 4,
   "metadata": {
    "scrolled": false
   },
   "outputs": [
    {
     "name": "stdout",
     "output_type": "stream",
     "text": [
      "x_train shape: (60000, 784)\n",
      "60000 train samples\n",
      "10000 test samples\n",
      "Train on 60000 samples, validate on 10000 samples\n",
      "Epoch 1/10\n",
      "60000/60000 [==============================] - 10s 172us/step - loss: 0.3827 - acc: 0.8938 - val_loss: 0.2083 - val_acc: 0.9384\n",
      "Epoch 2/10\n",
      "60000/60000 [==============================] - 10s 168us/step - loss: 0.1818 - acc: 0.9478 - val_loss: 0.1491 - val_acc: 0.9547\n",
      "Epoch 3/10\n",
      "60000/60000 [==============================] - 10s 165us/step - loss: 0.1322 - acc: 0.9616 - val_loss: 0.1166 - val_acc: 0.9639\n",
      "Epoch 4/10\n",
      "60000/60000 [==============================] - 10s 168us/step - loss: 0.1046 - acc: 0.9698 - val_loss: 0.0968 - val_acc: 0.9694\n",
      "Epoch 5/10\n",
      "60000/60000 [==============================] - 10s 165us/step - loss: 0.0852 - acc: 0.9752 - val_loss: 0.0893 - val_acc: 0.9712\n",
      "Epoch 6/10\n",
      "60000/60000 [==============================] - 10s 164us/step - loss: 0.0722 - acc: 0.9784 - val_loss: 0.0803 - val_acc: 0.9755\n",
      "Epoch 7/10\n",
      "60000/60000 [==============================] - 10s 165us/step - loss: 0.0603 - acc: 0.9820 - val_loss: 0.0775 - val_acc: 0.9753\n",
      "Epoch 8/10\n",
      "60000/60000 [==============================] - 10s 168us/step - loss: 0.0529 - acc: 0.9839 - val_loss: 0.0740 - val_acc: 0.9767\n",
      "Epoch 9/10\n",
      "60000/60000 [==============================] - 10s 161us/step - loss: 0.0451 - acc: 0.9870 - val_loss: 0.0727 - val_acc: 0.9759\n",
      "Epoch 10/10\n",
      "60000/60000 [==============================] - 10s 162us/step - loss: 0.0392 - acc: 0.9892 - val_loss: 0.0704 - val_acc: 0.9781\n"
     ]
    }
   ],
   "source": [
    "x_train, y_train = read()\n",
    "dir_ = '../src/data/mnist/'\n",
    "x_val, y_val = read(dir_+'t10k-images.idx3-ubyte', dir_+'t10k-labels.idx1-ubyte')\n",
    "\n",
    "\n",
    "input_size = 28*28\n",
    "output_size = 10\n",
    "\n",
    "x_train = x_train.reshape(x_train.shape[0], input_size)\n",
    "x_val = x_val.reshape(x_val.shape[0], input_size)\n",
    "\n",
    "x_train = x_train.astype('float32')\n",
    "x_val = x_val.astype('float32')\n",
    "x_train /= 255\n",
    "x_val /= 255\n",
    "print('x_train shape:', x_train.shape)\n",
    "print(x_train.shape[0], 'train samples')\n",
    "print(x_val.shape[0], 'test samples')\n",
    "\n",
    "y_train = keras.utils.to_categorical(y_train, output_size)\n",
    "y_val = keras.utils.to_categorical(y_val, output_size)\n",
    "\n",
    "# create model: à la 2NN\n",
    "model = Sequential()\n",
    "model.add(Dense(200, input_dim=input_size, activation='relu'))\n",
    "model.add(Dense(200, activation='relu'))\n",
    "model.add(Dense(output_size, activation='softmax'))\n",
    "\n",
    "# Compile model\n",
    "model.compile(loss=keras.losses.categorical_crossentropy,\n",
    "              optimizer=keras.optimizers.SGD(lr=0.01),\n",
    "              metrics=['accuracy'])\n",
    "\n",
    "# Fit the model\n",
    "history1 = model.fit(x_train, y_train, epochs=10, batch_size=10, verbose=1, validation_data=(x_val, y_val))"
   ]
  },
  {
   "cell_type": "markdown",
   "metadata": {},
   "source": [
    "## summarize history for accuracy"
   ]
  },
  {
   "cell_type": "code",
   "execution_count": 5,
   "metadata": {},
   "outputs": [],
   "source": [
    "logged_vals = history1.history"
   ]
  },
  {
   "cell_type": "code",
   "execution_count": 6,
   "metadata": {
    "scrolled": true
   },
   "outputs": [
    {
     "data": {
      "image/png": "[encoded data removed]",
      "text/plain": [
       "<matplotlib.figure.Figure at 0x7f314bf4f358>"
      ]
     },
     "metadata": {},
     "output_type": "display_data"
    }
   ],
   "source": [
    "plt.plot(logged_vals['acc'])\n",
    "plt.plot(logged_vals['val_acc'])\n",
    "plt.title('model accuracy')\n",
    "plt.ylabel('accuracy')\n",
    "plt.xlabel('epoch')\n",
    "plt.legend(['train', 'test'], loc='upper left')\n",
    "plt.show()"
   ]
  },
  {
   "cell_type": "code",
   "execution_count": 7,
   "metadata": {},
   "outputs": [
    {
     "data": {
      "text/plain": [
       "0.9780999959111214"
      ]
     },
     "execution_count": 7,
     "metadata": {},
     "output_type": "execute_result"
    }
   ],
   "source": [
    "max(logged_vals['val_acc'])"
   ]
  },
  {
   "cell_type": "markdown",
   "metadata": {},
   "source": [
    "## summarize history for loss"
   ]
  },
  {
   "cell_type": "code",
   "execution_count": 8,
   "metadata": {
    "scrolled": true
   },
   "outputs": [
    {
     "data": {
      "image/png": "[encoded data removed]",
      "text/plain": [
       "<matplotlib.figure.Figure at 0x7f314bf34eb8>"
      ]
     },
     "metadata": {},
     "output_type": "display_data"
    }
   ],
   "source": [
    "plt.plot(logged_vals['loss'])\n",
    "plt.plot(logged_vals['val_loss'])\n",
    "plt.title('model loss')\n",
    "plt.ylabel('loss')\n",
    "plt.xlabel('epoch')\n",
    "plt.legend(['train', 'test'], loc='upper left')\n",
    "plt.show()"
   ]
  },
  {
   "cell_type": "markdown",
   "metadata": {},
   "source": [
    "## Save history log"
   ]
  },
  {
   "cell_type": "code",
   "execution_count": 9,
   "metadata": {},
   "outputs": [],
   "source": [
    "def log_centralised(loss_log, metric_log):\n",
    "    with open('centralised_learning.csv', 'w') as file:\n",
    "        for i, (loss, metric) in enumerate(zip(loss_log, metric_log)):\n",
    "            file.write(\"{},{},{}\".format(i+1, loss, metric))\n",
    "            file.write('\\n')"
   ]
  },
  {
   "cell_type": "code",
   "execution_count": 10,
   "metadata": {},
   "outputs": [],
   "source": [
    "log_centralised(logged_vals['val_loss'], logged_vals['val_acc'])"
   ]
  },
  {
   "cell_type": "markdown",
   "metadata": {},
   "source": [
    "# Plot file"
   ]
  },
  {
   "cell_type": "code",
   "execution_count": 11,
   "metadata": {},
   "outputs": [],
   "source": [
    "import csv\n",
    "\n",
    "def read_log(file_name):\n",
    "    epochs = []\n",
    "    losses = []\n",
    "    metrics = []\n",
    "\n",
    "    with open(file_name) as csvfile:\n",
    "        readCSV = csv.reader(csvfile, delimiter=',')\n",
    "        for row in readCSV:\n",
    "            epoch  = float(row[0])\n",
    "            loss   = float(row[1])\n",
    "            metric = float(row[2])\n",
    "            epochs.append(epoch)\n",
    "            losses.append(loss)\n",
    "            metrics.append(metric)\n",
    "            \n",
    "    return (epochs, losses, metrics)"
   ]
  },
  {
   "cell_type": "code",
   "execution_count": 12,
   "metadata": {},
   "outputs": [
    {
     "data": {
      "image/png": "[encoded data removed]",
      "text/plain": [
       "<matplotlib.figure.Figure at 0x7f3149b9e0f0>"
      ]
     },
     "metadata": {},
     "output_type": "display_data"
    },
    {
     "data": {
      "image/png": "[encoded data removed]",
      "text/plain": [
       "<matplotlib.figure.Figure at 0x7f313c6afbe0>"
      ]
     },
     "metadata": {},
     "output_type": "display_data"
    }
   ],
   "source": [
    "(epoch, loss, acc) = read_log('centralised_learning.csv')\n",
    "\n",
    "plt.plot(epoch, acc)\n",
    "plt.title('model accuracy')\n",
    "plt.ylabel('acc')\n",
    "plt.xlabel('epoch')\n",
    "plt.legend(['test'], loc='lower right')\n",
    "plt.show()\n",
    "\n",
    "plt.plot(epoch, loss)\n",
    "plt.title('model loss')\n",
    "plt.ylabel('loss')\n",
    "plt.xlabel('epoch')\n",
    "plt.legend(['test'], loc='upper right')\n",
    "plt.show()"
   ]
  },
  {
   "cell_type": "markdown",
   "metadata": {},
   "source": [
    "# Less data"
   ]
  },
  {
   "cell_type": "code",
   "execution_count": 13,
   "metadata": {},
   "outputs": [],
   "source": [
    "import random\n",
    "\n",
    "def choose_random_subset_of_ids(length, subset_size):\n",
    "    ids = list(range(length))\n",
    "    random.shuffle(ids)\n",
    "    return ids[:subset_size]"
   ]
  },
  {
   "cell_type": "code",
   "execution_count": 14,
   "metadata": {},
   "outputs": [],
   "source": [
    "import glob\n",
    "\n",
    "def get_random_subset_mnist():\n",
    "    reg_exp_file = '../src/data/mnist/car*-labels.byte'\n",
    "    input_files = glob.glob(reg_exp_file)\n",
    "    num_cars = len(input_files)\n",
    "\n",
    "    car_labels_str = '../src/data/mnist/car{}-labels.byte'\n",
    "    car_images_str = '../src/data/mnist/car{}-images.byte'\n",
    "\n",
    "    x_return = []\n",
    "    y_return = []\n",
    "\n",
    "    for idx in range(1, num_cars+1):\n",
    "        # Read file\n",
    "        image_file = car_images_str.format(idx)\n",
    "        label_file = car_labels_str.format(idx)\n",
    "        x, y = read(image_file, label_file)\n",
    "\n",
    "        # Choose random subset\n",
    "        portion = 0.1\n",
    "        num_samples_from_car = round(y.shape[0] * portion)\n",
    "\n",
    "        mask = choose_random_subset_of_ids(y.shape[0], num_samples_from_car)\n",
    "        x_chosen = x[mask]\n",
    "        y_chosen = y[mask]\n",
    "\n",
    "        # accumulate/store chosen\n",
    "        x_return.append(x_chosen)\n",
    "        y_return.append(y_chosen)\n",
    "\n",
    "    # return\n",
    "    return (numpy.concatenate(x_return), numpy.concatenate(y_return))"
   ]
  },
  {
   "cell_type": "code",
   "execution_count": 15,
   "metadata": {
    "scrolled": true
   },
   "outputs": [
    {
     "name": "stdout",
     "output_type": "stream",
     "text": [
      "x_train shape: (6000, 784)\n",
      "6000 train samples\n",
      "10000 test samples\n",
      "Train on 6000 samples, validate on 10000 samples\n",
      "Epoch 1/10\n",
      "6000/6000 [==============================] - 1s 239us/step - loss: 1.1788 - acc: 0.7053 - val_loss: 0.5547 - val_acc: 0.8464\n",
      "Epoch 2/10\n",
      "6000/6000 [==============================] - 1s 241us/step - loss: 0.4437 - acc: 0.8802 - val_loss: 0.3784 - val_acc: 0.8957\n",
      "Epoch 3/10\n",
      "6000/6000 [==============================] - 1s 243us/step - loss: 0.3416 - acc: 0.9030 - val_loss: 0.3351 - val_acc: 0.9062\n",
      "Epoch 4/10\n",
      "6000/6000 [==============================] - 2s 253us/step - loss: 0.2908 - acc: 0.9157 - val_loss: 0.3098 - val_acc: 0.9128\n",
      "Epoch 5/10\n",
      "6000/6000 [==============================] - 2s 268us/step - loss: 0.2559 - acc: 0.9262 - val_loss: 0.2911 - val_acc: 0.9169\n",
      "Epoch 6/10\n",
      "6000/6000 [==============================] - 2s 266us/step - loss: 0.2269 - acc: 0.9372 - val_loss: 0.2916 - val_acc: 0.9132\n",
      "Epoch 7/10\n",
      "6000/6000 [==============================] - 2s 254us/step - loss: 0.2053 - acc: 0.9440 - val_loss: 0.2783 - val_acc: 0.9177\n",
      "Epoch 8/10\n",
      "6000/6000 [==============================] - 2s 258us/step - loss: 0.1857 - acc: 0.9507 - val_loss: 0.2628 - val_acc: 0.9228\n",
      "Epoch 9/10\n",
      "6000/6000 [==============================] - 2s 258us/step - loss: 0.1680 - acc: 0.9560 - val_loss: 0.2425 - val_acc: 0.9281\n",
      "Epoch 10/10\n",
      "6000/6000 [==============================] - 2s 259us/step - loss: 0.1560 - acc: 0.9570 - val_loss: 0.2375 - val_acc: 0.9287\n"
     ]
    }
   ],
   "source": [
    "x_train, y_train = get_random_subset_mnist()\n",
    "dir_ = '../src/data/mnist/'\n",
    "x_val, y_val = read(dir_+'t10k-images.idx3-ubyte', dir_+'t10k-labels.idx1-ubyte')\n",
    "\n",
    "\n",
    "input_size = 28*28\n",
    "output_size = 10\n",
    "\n",
    "x_train = x_train.reshape(x_train.shape[0], input_size)\n",
    "x_val = x_val.reshape(x_val.shape[0], input_size)\n",
    "\n",
    "x_train = x_train.astype('float32')\n",
    "x_val = x_val.astype('float32')\n",
    "x_train /= 255\n",
    "x_val /= 255\n",
    "print('x_train shape:', x_train.shape)\n",
    "print(x_train.shape[0], 'train samples')\n",
    "print(x_val.shape[0], 'test samples')\n",
    "\n",
    "y_train = keras.utils.to_categorical(y_train, output_size)\n",
    "y_val = keras.utils.to_categorical(y_val, output_size)\n",
    "\n",
    "# create model\n",
    "model = Sequential()\n",
    "model.add(Dense(200, input_dim=input_size, activation='relu'))\n",
    "model.add(Dense(200, activation='relu'))\n",
    "model.add(Dense(output_size, activation='softmax'))\n",
    "\n",
    "# Compile model\n",
    "model.compile(loss=keras.losses.categorical_crossentropy,\n",
    "              optimizer=keras.optimizers.SGD(lr=0.01),\n",
    "              metrics=['accuracy'])\n",
    "\n",
    "# Fit the model\n",
    "history2 = model.fit(x_train, y_train, epochs=10, batch_size=10, verbose=1, validation_data=(x_val, y_val))"
   ]
  },
  {
   "cell_type": "code",
   "execution_count": null,
   "metadata": {},
   "outputs": [],
   "source": []
  }
 ],
 "metadata": {
  "kernelspec": {
   "display_name": "Python 3",
   "language": "python",
   "name": "python3"
  },
  "language_info": {
   "codemirror_mode": {
    "name": "ipython",
    "version": 3
   },
   "file_extension": ".py",
   "mimetype": "text/x-python",
   "name": "python",
   "nbconvert_exporter": "python",
   "pygments_lexer": "ipython3",
   "version": "3.6.4"
  }
 },
 "nbformat": 4,
 "nbformat_minor": 2
}
