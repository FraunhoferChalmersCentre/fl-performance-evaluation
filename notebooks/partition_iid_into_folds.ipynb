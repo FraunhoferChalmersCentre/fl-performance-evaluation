{
 "cells": [
  {
   "cell_type": "markdown",
   "metadata": {},
   "source": [
    "# Collect all data"
   ]
  },
  {
   "cell_type": "code",
   "execution_count": 1,
   "metadata": {},
   "outputs": [],
   "source": [
    "import struct\n",
    "\n",
    "def get_byte_list(lbl_file_name, img_file_name):\n",
    "    '''\n",
    "    Returns a list of tuples,\n",
    "    each tuple contains a label and an image, both in bytes.\n",
    "    '''\n",
    "\n",
    "    tuples = []\n",
    "    with open(lbl_file_name, 'rb') as lbl_file, open(img_file_name, 'rb') as img_file:\n",
    "\n",
    "        magic_number, num = struct.unpack('>II', lbl_file.read(8))\n",
    "        _magic, _num, rows, cols = struct.unpack('>IIII', img_file.read(16))\n",
    "\n",
    "        assert(num == _num)\n",
    "\n",
    "        for i in range(num):\n",
    "            label = lbl_file.read(1)\n",
    "            img = img_file.read(rows*cols)\n",
    "\n",
    "            tuples.append((label, img))\n",
    "\n",
    "    return tuples"
   ]
  },
  {
   "cell_type": "code",
   "execution_count": 2,
   "metadata": {
    "scrolled": false
   },
   "outputs": [
    {
     "name": "stdout",
     "output_type": "stream",
     "text": [
      "-rw-rw-r-- 1 adrian adrian  7840016 maj 14 16:08 ../src/data/mnist/t10k-images.idx3-ubyte\r\n",
      "-rw-rw-r-- 1 adrian adrian    10008 maj 14 16:08 ../src/data/mnist/t10k-labels.idx1-ubyte\r\n",
      "-rw-rw-r-- 1 adrian adrian 47040016 maj 14 16:08 ../src/data/mnist/train-images.idx3-ubyte\r\n",
      "-rw-rw-r-- 1 adrian adrian    60008 maj 14 16:08 ../src/data/mnist/train-labels.idx1-ubyte\r\n"
     ]
    }
   ],
   "source": [
    "!ls -l ../src/data/mnist/t*"
   ]
  },
  {
   "cell_type": "code",
   "execution_count": 3,
   "metadata": {},
   "outputs": [
    {
     "name": "stdout",
     "output_type": "stream",
     "text": [
      "tot num data 70000\n"
     ]
    }
   ],
   "source": [
    "from pathlib import Path\n",
    "\n",
    "DATA_DIR = Path('../src/data/mnist')\n",
    "train_data = get_byte_list(DATA_DIR / 'train-labels.idx1-ubyte', DATA_DIR / 'train-images.idx3-ubyte')\n",
    "test_data = get_byte_list(DATA_DIR / 't10k-labels.idx1-ubyte', DATA_DIR / 't10k-images.idx3-ubyte')\n",
    "data = train_data + test_data\n",
    "print('tot num data', len(data))"
   ]
  },
  {
   "cell_type": "markdown",
   "metadata": {},
   "source": [
    "# Shuffle the data"
   ]
  },
  {
   "cell_type": "code",
   "execution_count": 4,
   "metadata": {},
   "outputs": [],
   "source": [
    "SEED = 20180516"
   ]
  },
  {
   "cell_type": "code",
   "execution_count": 5,
   "metadata": {},
   "outputs": [
    {
     "name": "stdout",
     "output_type": "stream",
     "text": [
      "first 4 before: (b'\\x05', b'\\x00', b'\\x04', b'\\x01')\n",
      "first 4 after: (b'\\x04', b'\\t', b'\\x01', b'\\x07')\n"
     ]
    }
   ],
   "source": [
    "from random import shuffle\n",
    "from random import seed\n",
    "\n",
    "seed(SEED)\n",
    "print('first 4 before:', list(zip(*data[:4]))[0])\n",
    "shuffle(data)\n",
    "print('first 4 after:', list(zip(*data[:4]))[0])"
   ]
  },
  {
   "cell_type": "markdown",
   "metadata": {},
   "source": [
    "# Split into folds"
   ]
  },
  {
   "cell_type": "code",
   "execution_count": 6,
   "metadata": {
    "scrolled": true
   },
   "outputs": [],
   "source": [
    "def print_folds(folds):\n",
    "    for i in range(len(folds[0])):\n",
    "        print(i, end='\\t')\n",
    "        for fold in folds:\n",
    "            print(int.from_bytes(fold[i][0], byteorder='big'), end='\\t')\n",
    "        print()"
   ]
  },
  {
   "cell_type": "code",
   "execution_count": 7,
   "metadata": {},
   "outputs": [
    {
     "name": "stdout",
     "output_type": "stream",
     "text": [
      "14000 per fold; rest: 0\n"
     ]
    }
   ],
   "source": [
    "NUM_FOLDS = 5\n",
    "\n",
    "n_data = len(data)\n",
    "n_data_per_fold = n_data // NUM_FOLDS\n",
    "print(n_data_per_fold, 'per fold; rest:', n_data%NUM_FOLDS)\n",
    "\n",
    "tmp_data = data\n",
    "folds = []\n",
    "for i in range(NUM_FOLDS):\n",
    "    heads = tmp_data[:n_data_per_fold]\n",
    "    tail = tmp_data[n_data_per_fold:]\n",
    "    \n",
    "    folds.append(heads)\n",
    "    tmp_data = tail"
   ]
  },
  {
   "cell_type": "markdown",
   "metadata": {},
   "source": [
    "# Write data to files"
   ]
  },
  {
   "cell_type": "code",
   "execution_count": 8,
   "metadata": {},
   "outputs": [
    {
     "name": "stdout",
     "output_type": "stream",
     "text": [
      "A folder already exists: ../src/data/mnist_iid_cv\n"
     ]
    }
   ],
   "source": [
    "import os\n",
    "\n",
    "directory = DATA_DIR.parent / 'mnist_iid_cv'\n",
    "try:\n",
    "    os.mkdir(directory)\n",
    "except FileExistsError:\n",
    "    print(\"A folder already exists:\", directory)\n",
    "\n",
    "for i in range(NUM_FOLDS):\n",
    "    folder_name = directory / ('fold' + str(1+i))\n",
    "    try:\n",
    "        os.mkdir(folder_name)\n",
    "    except FileExistsError:\n",
    "        print(\"A folder already exists:\", folder_name)"
   ]
  },
  {
   "cell_type": "code",
   "execution_count": 9,
   "metadata": {
    "scrolled": true
   },
   "outputs": [
    {
     "data": {
      "text/plain": [
       "['fold2', 'fold4', 'fold3', 'fold1', 'fold5']"
      ]
     },
     "execution_count": 9,
     "metadata": {},
     "output_type": "execute_result"
    }
   ],
   "source": [
    "os.listdir(directory)"
   ]
  },
  {
   "cell_type": "code",
   "execution_count": 10,
   "metadata": {},
   "outputs": [],
   "source": [
    "def partition_mnist_list(pairs, nr_data_per_car, output_dir):\n",
    "\n",
    "    for i, nr_data in enumerate(nr_data_per_car):\n",
    "        number_list = pairs[:nr_data]\n",
    "        pairs = pairs[nr_data:]\n",
    "        car_i = i+1\n",
    "\n",
    "        lbls_file_name = output_dir / f\"car{car_i}-labels.byte\"\n",
    "        imgs_file_name = output_dir / f\"car{car_i}-images.byte\"\n",
    "        with open(lbls_file_name, 'wb') as lbl_file, \\\n",
    "                open(imgs_file_name, 'wb') as img_file:\n",
    "\n",
    "            lbl_magic_nr = b'\\x00\\x00\\x08\\x01' # ubyte, 1-dim\n",
    "            n_lbl = (nr_data).to_bytes(4, byteorder='big')\n",
    "            lbl_header = lbl_magic_nr + n_lbl\n",
    "            lbl_file.write(lbl_header)\n",
    "\n",
    "            img_magic_nr = b'\\x00\\x00\\x08\\x03' # ubyte, 3-dim\n",
    "            n_imgs = (nr_data).to_bytes(4, byteorder='big')\n",
    "            n_rows = (28).to_bytes(4, byteorder='big')\n",
    "            n_cols = (28).to_bytes(4, byteorder='big')\n",
    "            img_header = img_magic_nr + n_imgs + n_rows + n_cols\n",
    "            img_file.write(img_header)\n",
    "\n",
    "            for (lbl, img) in number_list:\n",
    "                lbl_file.write(lbl)\n",
    "                img_file.write(img)"
   ]
  },
  {
   "cell_type": "code",
   "execution_count": 11,
   "metadata": {},
   "outputs": [
    {
     "name": "stdout",
     "output_type": "stream",
     "text": [
      "../src/data/mnist_iid_cv/fold1\n",
      "../src/data/mnist_iid_cv/fold2\n",
      "../src/data/mnist_iid_cv/fold3\n",
      "../src/data/mnist_iid_cv/fold4\n",
      "../src/data/mnist_iid_cv/fold5\n"
     ]
    }
   ],
   "source": [
    "folders = os.listdir(directory)\n",
    "folders.sort()\n",
    "for fold_name, data_pairs in zip(folders, folds):\n",
    "    output_dir = directory / fold_name\n",
    "    print(output_dir)\n",
    "    tot_data = len(data_pairs)\n",
    "    partition_mnist_list(data_pairs, [tot_data // 100 for _ in range(100)], output_dir)"
   ]
  },
  {
   "cell_type": "markdown",
   "metadata": {},
   "source": [
    "# Read how many digit each client has"
   ]
  },
  {
   "cell_type": "code",
   "execution_count": 12,
   "metadata": {},
   "outputs": [],
   "source": [
    "import numpy\n",
    "import struct\n",
    "\n",
    "def read_mnist_data(fname_img, fname_lbl):\n",
    "    '''\n",
    "    Read MNIST data from a byte file.\n",
    "\n",
    "    Return: tuple of inputs and labels (numpy)\n",
    "    '''\n",
    "    with open(fname_lbl, 'rb') as flbl:\n",
    "        magic, num = struct.unpack(\">II\", flbl.read(8))\n",
    "        lbl = numpy.fromfile(flbl, dtype=numpy.int8)\n",
    "        if len(lbl) != num:\n",
    "            print('Header mismatch. #labels != header number')\n",
    "\n",
    "    with open(fname_img, 'rb') as fimg:\n",
    "        magic, num, rows, cols = struct.unpack(\">IIII\", fimg.read(16))\n",
    "        img = numpy.fromfile(fimg, dtype=numpy.uint8).reshape(num, rows, cols)\n",
    "\n",
    "    return (img, lbl)"
   ]
  },
  {
   "cell_type": "code",
   "execution_count": 13,
   "metadata": {},
   "outputs": [],
   "source": [
    "import os\n",
    "\n",
    "directory = DATA_DIR.parent / 'mnist_iid_cv'\n",
    "\n",
    "def read_car_data(folder_names, input_dir, car_i):\n",
    "    '''\n",
    "    Read data for one car\n",
    "    '''\n",
    "    x_return = []\n",
    "    y_return = []\n",
    "\n",
    "    for fold_name in folder_names:\n",
    "        # Read file\n",
    "        input_directory = input_dir / fold_name\n",
    "        label_file = input_directory / f\"car{car_i}-labels.byte\"\n",
    "        image_file = input_directory / f\"car{car_i}-images.byte\"\n",
    "        x, y = read_mnist_data(image_file, label_file)\n",
    "\n",
    "        # accumulate/store chosen\n",
    "        x_return.append(x)\n",
    "        y_return.append(y)\n",
    "\n",
    "    # return\n",
    "    return (numpy.concatenate(x_return), numpy.concatenate(y_return))\n",
    "    \n",
    "folders = os.listdir(directory)\n",
    "folders.remove('fold1')\n",
    "\n",
    "list_of_pairs = [read_car_data(folders, directory, car_i) for car_i in range(1, 101)]"
   ]
  },
  {
   "cell_type": "code",
   "execution_count": 14,
   "metadata": {
    "scrolled": false
   },
   "outputs": [
    {
     "name": "stdout",
     "output_type": "stream",
     "text": [
      "1 (0, 1, 2, 3, 4, 5, 6, 7, 8, 9)\n",
      "1 560\n",
      "2 (0, 1, 2, 3, 4, 5, 6, 7, 8, 9)\n",
      "2 560\n",
      "3 (0, 1, 2, 3, 4, 5, 6, 7, 8, 9)\n",
      "3 560\n",
      "4 (0, 1, 2, 3, 4, 5, 6, 7, 8, 9)\n",
      "4 560\n",
      "5 (0, 1, 2, 3, 4, 5, 6, 7, 8, 9)\n",
      "5 560\n",
      "6 (0, 1, 2, 3, 4, 5, 6, 7, 8, 9)\n",
      "6 560\n",
      "7 (0, 1, 2, 3, 4, 5, 6, 7, 8, 9)\n",
      "7 560\n",
      "8 (0, 1, 2, 3, 4, 5, 6, 7, 8, 9)\n",
      "8 560\n",
      "9 (0, 1, 2, 3, 4, 5, 6, 7, 8, 9)\n",
      "9 560\n",
      "10 (0, 1, 2, 3, 4, 5, 6, 7, 8, 9)\n",
      "10 560\n",
      "11 (0, 1, 2, 3, 4, 5, 6, 7, 8, 9)\n",
      "11 560\n",
      "12 (0, 1, 2, 3, 4, 5, 6, 7, 8, 9)\n",
      "12 560\n",
      "13 (0, 1, 2, 3, 4, 5, 6, 7, 8, 9)\n",
      "13 560\n",
      "14 (0, 1, 2, 3, 4, 5, 6, 7, 8, 9)\n",
      "14 560\n",
      "15 (0, 1, 2, 3, 4, 5, 6, 7, 8, 9)\n",
      "15 560\n",
      "16 (0, 1, 2, 3, 4, 5, 6, 7, 8, 9)\n",
      "16 560\n",
      "17 (0, 1, 2, 3, 4, 5, 6, 7, 8, 9)\n",
      "17 560\n",
      "18 (0, 1, 2, 3, 4, 5, 6, 7, 8, 9)\n",
      "18 560\n",
      "19 (0, 1, 2, 3, 4, 5, 6, 7, 8, 9)\n",
      "19 560\n",
      "20 (0, 1, 2, 3, 4, 5, 6, 7, 8, 9)\n",
      "20 560\n",
      "21 (0, 1, 2, 3, 4, 5, 6, 7, 8, 9)\n",
      "21 560\n",
      "22 (0, 1, 2, 3, 4, 5, 6, 7, 8, 9)\n",
      "22 560\n",
      "23 (0, 1, 2, 3, 4, 5, 6, 7, 8, 9)\n",
      "23 560\n",
      "24 (0, 1, 2, 3, 4, 5, 6, 7, 8, 9)\n",
      "24 560\n",
      "25 (0, 1, 2, 3, 4, 5, 6, 7, 8, 9)\n",
      "25 560\n",
      "26 (0, 1, 2, 3, 4, 5, 6, 7, 8, 9)\n",
      "26 560\n",
      "27 (0, 1, 2, 3, 4, 5, 6, 7, 8, 9)\n",
      "27 560\n",
      "28 (0, 1, 2, 3, 4, 5, 6, 7, 8, 9)\n",
      "28 560\n",
      "29 (0, 1, 2, 3, 4, 5, 6, 7, 8, 9)\n",
      "29 560\n",
      "30 (0, 1, 2, 3, 4, 5, 6, 7, 8, 9)\n",
      "30 560\n",
      "31 (0, 1, 2, 3, 4, 5, 6, 7, 8, 9)\n",
      "31 560\n",
      "32 (0, 1, 2, 3, 4, 5, 6, 7, 8, 9)\n",
      "32 560\n",
      "33 (0, 1, 2, 3, 4, 5, 6, 7, 8, 9)\n",
      "33 560\n",
      "34 (0, 1, 2, 3, 4, 5, 6, 7, 8, 9)\n",
      "34 560\n",
      "35 (0, 1, 2, 3, 4, 5, 6, 7, 8, 9)\n",
      "35 560\n",
      "36 (0, 1, 2, 3, 4, 5, 6, 7, 8, 9)\n",
      "36 560\n",
      "37 (0, 1, 2, 3, 4, 5, 6, 7, 8, 9)\n",
      "37 560\n",
      "38 (0, 1, 2, 3, 4, 5, 6, 7, 8, 9)\n",
      "38 560\n",
      "39 (0, 1, 2, 3, 4, 5, 6, 7, 8, 9)\n",
      "39 560\n",
      "40 (0, 1, 2, 3, 4, 5, 6, 7, 8, 9)\n",
      "40 560\n",
      "41 (0, 1, 2, 3, 4, 5, 6, 7, 8, 9)\n",
      "41 560\n",
      "42 (0, 1, 2, 3, 4, 5, 6, 7, 8, 9)\n",
      "42 560\n",
      "43 (0, 1, 2, 3, 4, 5, 6, 7, 8, 9)\n",
      "43 560\n",
      "44 (0, 1, 2, 3, 4, 5, 6, 7, 8, 9)\n",
      "44 560\n",
      "45 (0, 1, 2, 3, 4, 5, 6, 7, 8, 9)\n",
      "45 560\n",
      "46 (0, 1, 2, 3, 4, 5, 6, 7, 8, 9)\n",
      "46 560\n",
      "47 (0, 1, 2, 3, 4, 5, 6, 7, 8, 9)\n",
      "47 560\n",
      "48 (0, 1, 2, 3, 4, 5, 6, 7, 8, 9)\n",
      "48 560\n",
      "49 (0, 1, 2, 3, 4, 5, 6, 7, 8, 9)\n",
      "49 560\n",
      "50 (0, 1, 2, 3, 4, 5, 6, 7, 8, 9)\n",
      "50 560\n",
      "51 (0, 1, 2, 3, 4, 5, 6, 7, 8, 9)\n",
      "51 560\n",
      "52 (0, 1, 2, 3, 4, 5, 6, 7, 8, 9)\n",
      "52 560\n",
      "53 (0, 1, 2, 3, 4, 5, 6, 7, 8, 9)\n",
      "53 560\n",
      "54 (0, 1, 2, 3, 4, 5, 6, 7, 8, 9)\n",
      "54 560\n",
      "55 (0, 1, 2, 3, 4, 5, 6, 7, 8, 9)\n",
      "55 560\n",
      "56 (0, 1, 2, 3, 4, 5, 6, 7, 8, 9)\n",
      "56 560\n",
      "57 (0, 1, 2, 3, 4, 5, 6, 7, 8, 9)\n",
      "57 560\n",
      "58 (0, 1, 2, 3, 4, 5, 6, 7, 8, 9)\n",
      "58 560\n",
      "59 (0, 1, 2, 3, 4, 5, 6, 7, 8, 9)\n",
      "59 560\n",
      "60 (0, 1, 2, 3, 4, 5, 6, 7, 8, 9)\n",
      "60 560\n",
      "61 (0, 1, 2, 3, 4, 5, 6, 7, 8, 9)\n",
      "61 560\n",
      "62 (0, 1, 2, 3, 4, 5, 6, 7, 8, 9)\n",
      "62 560\n",
      "63 (0, 1, 2, 3, 4, 5, 6, 7, 8, 9)\n",
      "63 560\n",
      "64 (0, 1, 2, 3, 4, 5, 6, 7, 8, 9)\n",
      "64 560\n",
      "65 (0, 1, 2, 3, 4, 5, 6, 7, 8, 9)\n",
      "65 560\n",
      "66 (0, 1, 2, 3, 4, 5, 6, 7, 8, 9)\n",
      "66 560\n",
      "67 (0, 1, 2, 3, 4, 5, 6, 7, 8, 9)\n",
      "67 560\n",
      "68 (0, 1, 2, 3, 4, 5, 6, 7, 8, 9)\n",
      "68 560\n",
      "69 (0, 1, 2, 3, 4, 5, 6, 7, 8, 9)\n",
      "69 560\n",
      "70 (0, 1, 2, 3, 4, 5, 6, 7, 8, 9)\n",
      "70 560\n",
      "71 (0, 1, 2, 3, 4, 5, 6, 7, 8, 9)\n",
      "71 560\n",
      "72 (0, 1, 2, 3, 4, 5, 6, 7, 8, 9)\n",
      "72 560\n",
      "73 (0, 1, 2, 3, 4, 5, 6, 7, 8, 9)\n",
      "73 560\n",
      "74 (0, 1, 2, 3, 4, 5, 6, 7, 8, 9)\n",
      "74 560\n",
      "75 (0, 1, 2, 3, 4, 5, 6, 7, 8, 9)\n",
      "75 560\n",
      "76 (0, 1, 2, 3, 4, 5, 6, 7, 8, 9)\n",
      "76 560\n",
      "77 (0, 1, 2, 3, 4, 5, 6, 7, 8, 9)\n",
      "77 560\n",
      "78 (0, 1, 2, 3, 4, 5, 6, 7, 8, 9)\n",
      "78 560\n",
      "79 (0, 1, 2, 3, 4, 5, 6, 7, 8, 9)\n",
      "79 560\n",
      "80 (0, 1, 2, 3, 4, 5, 6, 7, 8, 9)\n",
      "80 560\n",
      "81 (0, 1, 2, 3, 4, 5, 6, 7, 8, 9)\n",
      "81 560\n",
      "82 (0, 1, 2, 3, 4, 5, 6, 7, 8, 9)\n",
      "82 560\n",
      "83 (0, 1, 2, 3, 4, 5, 6, 7, 8, 9)\n",
      "83 560\n",
      "84 (0, 1, 2, 3, 4, 5, 6, 7, 8, 9)\n",
      "84 560\n",
      "85 (0, 1, 2, 3, 4, 5, 6, 7, 8, 9)\n",
      "85 560\n",
      "86 (0, 1, 2, 3, 4, 5, 6, 7, 8, 9)\n",
      "86 560\n",
      "87 (0, 1, 2, 3, 4, 5, 6, 7, 8, 9)\n",
      "87 560\n",
      "88 (0, 1, 2, 3, 4, 5, 6, 7, 8, 9)\n",
      "88 560\n",
      "89 (0, 1, 2, 3, 4, 5, 6, 7, 8, 9)\n",
      "89 560\n",
      "90 (0, 1, 2, 3, 4, 5, 6, 7, 8, 9)\n",
      "90 560\n",
      "91 (0, 1, 2, 3, 4, 5, 6, 7, 8, 9)\n",
      "91 560\n",
      "92 (0, 1, 2, 3, 4, 5, 6, 7, 8, 9)\n",
      "92 560\n",
      "93 (0, 1, 2, 3, 4, 5, 6, 7, 8, 9)\n",
      "93 560\n",
      "94 (0, 1, 2, 3, 4, 5, 6, 7, 8, 9)\n",
      "94 560\n",
      "95 (0, 1, 2, 3, 4, 5, 6, 7, 8, 9)\n",
      "95 560\n",
      "96 (0, 1, 2, 3, 4, 5, 6, 7, 8, 9)\n",
      "96 560\n",
      "97 (0, 1, 2, 3, 4, 5, 6, 7, 8, 9)\n",
      "97 560\n",
      "98 (0, 1, 2, 3, 4, 5, 6, 7, 8, 9)\n",
      "98 560\n",
      "99 (0, 1, 2, 3, 4, 5, 6, 7, 8, 9)\n",
      "99 560\n",
      "100 (0, 1, 2, 3, 4, 5, 6, 7, 8, 9)\n",
      "100 560\n",
      "Frequency\n",
      "0 : 100\n",
      "1 : 100\n",
      "2 : 100\n",
      "3 : 100\n",
      "4 : 100\n",
      "5 : 100\n",
      "6 : 100\n",
      "7 : 100\n",
      "8 : 100\n",
      "9 : 100\n"
     ]
    }
   ],
   "source": [
    "from itertools import groupby\n",
    "import operator, functools\n",
    "\n",
    "freq = dir()\n",
    "for i in range(10):\n",
    "    freq[i] = 0\n",
    "\n",
    "for i,(_, car_lbls) in enumerate(list_of_pairs):\n",
    "    groups = groupby(numpy.sort(car_lbls))\n",
    "    keys, data_length = zip(*[(key,len(list(data))) for (key, data) in groups])\n",
    "    print(i+1, keys)\n",
    "    print(i+1, functools.reduce(operator.add, data_length))\n",
    "    for num in keys:\n",
    "        freq[num] += 1\n",
    "            \n",
    "print(\"Frequency\")\n",
    "for i in range(10):\n",
    "    print(i,\":\", freq[i])"
   ]
  }
 ],
 "metadata": {
  "kernelspec": {
   "display_name": "Python 3",
   "language": "python",
   "name": "python3"
  },
  "language_info": {
   "codemirror_mode": {
    "name": "ipython",
    "version": 3
   },
   "file_extension": ".py",
   "mimetype": "text/x-python",
   "name": "python",
   "nbconvert_exporter": "python",
   "pygments_lexer": "ipython3",
   "version": "3.6.10"
  }
 },
 "nbformat": 4,
 "nbformat_minor": 2
}
