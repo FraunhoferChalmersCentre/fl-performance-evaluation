{
 "cells": [
  {
   "cell_type": "markdown",
   "metadata": {},
   "source": [
    "# Data distribution IID and non-IID"
   ]
  },
  {
   "cell_type": "code",
   "execution_count": 1,
   "metadata": {},
   "outputs": [],
   "source": [
    "import matplotlib.pyplot as plt\n",
    "import matplotlib\n",
    "matplotlib.rcParams['pdf.fonttype'] = 42\n",
    "matplotlib.rcParams['ps.fonttype'] = 42\n",
    "%matplotlib inline"
   ]
  },
  {
   "cell_type": "code",
   "execution_count": 2,
   "metadata": {},
   "outputs": [],
   "source": [
    "import numpy\n",
    "import struct\n",
    "\n",
    "def read_mnist_data(fname_lbl, fname_img):\n",
    "    '''\n",
    "    Read MNIST data from a byte file.\n",
    "\n",
    "    Return: tuple of inputs and labels (numpy)\n",
    "    '''\n",
    "    with open(fname_lbl, 'rb') as flbl:\n",
    "        magic, num = struct.unpack(\">II\", flbl.read(8))\n",
    "        lbl = numpy.fromfile(flbl, dtype=numpy.int8)\n",
    "        if len(lbl) != num:\n",
    "            print('Header mismatch. #labels != header number ({}!= {})'.format(len(lbl), num))\n",
    "\n",
    "    with open(fname_img, 'rb') as fimg:\n",
    "        magic, num, rows, cols = struct.unpack(\">IIII\", fimg.read(16))\n",
    "        print()\n",
    "        img = numpy.fromfile(fimg, dtype=numpy.uint8).reshape(num, rows, cols)\n",
    "\n",
    "    return (lbl, img)"
   ]
  },
  {
   "cell_type": "code",
   "execution_count": 3,
   "metadata": {},
   "outputs": [],
   "source": [
    "from itertools import groupby\n",
    "\n",
    "def count_numbers(lbls):\n",
    "    groups = groupby(numpy.sort(lbls))\n",
    "    keys = [(key, len(list(data))) for (key, data) in groups]\n",
    "    iid_x, iid_y = zip(*keys)\n",
    "    return list(iid_x), list(iid_y)"
   ]
  },
  {
   "cell_type": "code",
   "execution_count": 4,
   "metadata": {},
   "outputs": [],
   "source": [
    "width = 1.0-0.08"
   ]
  },
  {
   "cell_type": "code",
   "execution_count": 7,
   "metadata": {},
   "outputs": [
    {
     "name": "stdout",
     "output_type": "stream",
     "text": [
      "\n"
     ]
    },
    {
     "data": {
      "image/png": "[encoded data removed]",
      "text/plain": [
       "<Figure size 288x288 with 1 Axes>"
      ]
     },
     "metadata": {
      "needs_background": "light"
     },
     "output_type": "display_data"
    }
   ],
   "source": [
    "from pathlib import Path\n",
    "\n",
    "DATA_DIR = Path('../src/data')\n",
    "MNIST_DIR = DATA_DIR / 'mnist'\n",
    "\n",
    "_, iid_ax = plt.subplots(1, figsize=(4,4))\n",
    "\n",
    "iid_labels, _ = read_mnist_data(MNIST_DIR / 'car1-labels.byte', MNIST_DIR / 'car1-images.byte')\n",
    "iid_x, iid_y = count_numbers(iid_labels)\n",
    "\n",
    "iid_ax.bar(iid_x, iid_y, width=width, align='center')\n",
    "iid_ax.set_title('Client 1, i.i.d.')\n",
    "\n",
    "iid_ax.set_ylim([0, 300])\n",
    "iid_ax.set_ylabel('Count')\n",
    "iid_ax.set_xlabel('Digit')\n",
    "iid_ax.set_xticks(range(10))\n",
    "\n",
    "# Hide the right and top spines\n",
    "iid_ax.spines['right'].set_visible(False)\n",
    "iid_ax.spines['top'].set_visible(False)\n",
    "\n",
    "# Only show ticks on the left and bottom spines\n",
    "iid_ax.yaxis.set_ticks_position('left')\n",
    "iid_ax.xaxis.set_ticks_position('bottom')\n",
    "\n",
    "plt.tight_layout()\n",
    "plt.savefig('car_iid.pdf')\n",
    "plt.show()"
   ]
  },
  {
   "cell_type": "code",
   "execution_count": 9,
   "metadata": {
    "scrolled": false
   },
   "outputs": [
    {
     "name": "stdout",
     "output_type": "stream",
     "text": [
      "\n"
     ]
    },
    {
     "data": {
      "image/png": "[encoded data removed]",
      "text/plain": [
       "<Figure size 288x288 with 1 Axes>"
      ]
     },
     "metadata": {
      "needs_background": "light"
     },
     "output_type": "display_data"
    }
   ],
   "source": [
    "import numpy as np\n",
    "\n",
    "MNIST_DIR = DATA_DIR / 'mnist-non-iid'\n",
    "\n",
    "noniid_labels, _ = read_mnist_data(MNIST_DIR / 'car1-labels.byte', MNIST_DIR / 'car1-images.byte')\n",
    "digits, nr_digits = count_numbers(noniid_labels)\n",
    "noniid_y = np.zeros(10)\n",
    "for i, nr in enumerate(nr_digits):\n",
    "    noniid_y[digits[i]] = nr\n",
    "noniid_x = list(range(10))\n",
    "\n",
    "_, non_ax = plt.subplots(1, figsize=(4,4))\n",
    "\n",
    "non_ax.bar(noniid_x, noniid_y, width=width, align='center')\n",
    "non_ax.set_title('Client 1, non-i.i.d.')\n",
    "\n",
    "non_ax.set_ylim([0, 300])\n",
    "non_ax.set_ylabel('Count')\n",
    "non_ax.set_xlabel('Digit')\n",
    "non_ax.set_xticks(range(10))\n",
    "\n",
    "# Hide the right and top spines\n",
    "non_ax.spines['right'].set_visible(False)\n",
    "non_ax.spines['top'].set_visible(False)\n",
    "\n",
    "# Only show ticks on the left and bottom spines\n",
    "non_ax.yaxis.set_ticks_position('left')\n",
    "non_ax.xaxis.set_ticks_position('bottom')\n",
    "\n",
    "plt.tight_layout()\n",
    "plt.savefig('car_non-iid.pdf')\n",
    "plt.show()"
   ]
  }
 ],
 "metadata": {
  "kernelspec": {
   "display_name": "Python 3",
   "language": "python",
   "name": "python3"
  },
  "language_info": {
   "codemirror_mode": {
    "name": "ipython",
    "version": 3
   },
   "file_extension": ".py",
   "mimetype": "text/x-python",
   "name": "python",
   "nbconvert_exporter": "python",
   "pygments_lexer": "ipython3",
   "version": "3.6.7"
  }
 },
 "nbformat": 4,
 "nbformat_minor": 2
}
